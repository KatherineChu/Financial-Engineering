{
 "cells": [
  {
   "cell_type": "code",
   "execution_count": 1,
   "metadata": {},
   "outputs": [
    {
     "name": "stdout",
     "output_type": "stream",
     "text": [
      "Stock Price: 75\n",
      "Strike Price: 65\n",
      "Sigma: 0.35\n",
      "Dividend: 1\n",
      "Return Rate: 0.06\n",
      "Periods: 2\n",
      "Maturity (month): 6\n"
     ]
    }
   ],
   "source": [
    "import math\n",
    "from scipy import stats\n",
    "\n",
    "Stock  = float(input('Stock Price: '))\n",
    "Strike = float(input('Strike Price: '))\n",
    "Sigma  = float(input('Sigma: '))\n",
    "D      = float(input('Dividend: '))\n",
    "r      = float(input('Return Rate: '))\n",
    "n      = int(input('Periods: '))\n",
    "M      = float(input('Maturity (month): '))"
   ]
  },
  {
   "cell_type": "markdown",
   "metadata": {},
   "source": [
    "# Calculate Dividend & $\\hat{S}$"
   ]
  },
  {
   "cell_type": "code",
   "execution_count": 2,
   "metadata": {},
   "outputs": [],
   "source": [
    "D_month = []\n",
    "Dividend = 0\n",
    "\n",
    "for i in range(n):\n",
    "    D_month.append(1 + 3 * i)\n",
    "\n",
    "for i in range(n):\n",
    "    Dividend += D * (math.exp(-r * (D_month[i]/12)))\n",
    "\n",
    "S_head = Stock - Dividend"
   ]
  },
  {
   "cell_type": "markdown",
   "metadata": {},
   "source": [
    "# Calculate d1 & d2"
   ]
  },
  {
   "cell_type": "code",
   "execution_count": 4,
   "metadata": {},
   "outputs": [],
   "source": [
    "d1 = (math.log(S_head / Strike) + ((r + (1/2) * (Sigma ** 2)) * (M / 12))) / (Sigma * (M/12) ** (1/2))\n",
    "d2 = d1 - Sigma * (M/12) ** (1/2)"
   ]
  },
  {
   "cell_type": "markdown",
   "metadata": {},
   "source": [
    "# Calculate Put price & Call price"
   ]
  },
  {
   "cell_type": "code",
   "execution_count": 5,
   "metadata": {},
   "outputs": [
    {
     "name": "stdout",
     "output_type": "stream",
     "text": [
      "Put Price:  2.86\n",
      "CallStock Price:  12.806\n"
     ]
    }
   ],
   "source": [
    "p = Strike * math.exp(-r * M/12) * stats.norm.cdf(-d2) - S_head * stats.norm.cdf(-d1)\n",
    "c = S_head * stats.norm.cdf(d1) - Strike * math.exp(-r * M/12) * stats.norm.cdf(d2)\n",
    "print(\"Put Price: \", round(p,3))\n",
    "print(\"CallStock Price: \", round(c,3))"
   ]
  }
 ],
 "metadata": {
  "kernelspec": {
   "display_name": "Python 3",
   "language": "python",
   "name": "python3"
  },
  "language_info": {
   "codemirror_mode": {
    "name": "ipython",
    "version": 3
   },
   "file_extension": ".py",
   "mimetype": "text/x-python",
   "name": "python",
   "nbconvert_exporter": "python",
   "pygments_lexer": "ipython3",
   "version": "3.7.3"
  }
 },
 "nbformat": 4,
 "nbformat_minor": 2
}
