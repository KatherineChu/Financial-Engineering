{
 "cells": [
  {
   "cell_type": "markdown",
   "metadata": {},
   "source": [
    "## 資料輸入及資料轉換"
   ]
  },
  {
   "cell_type": "code",
   "execution_count": 1,
   "metadata": {},
   "outputs": [
    {
     "name": "stdout",
     "output_type": "stream",
     "text": [
      "Strike Price: 160\n",
      "Stock Price: 150\n",
      "Continuously Compounded Risk Rate per Period: 0.18232\n",
      "Up Factor: 1.5\n",
      "Down Factor: 0.5\n",
      "Periods: 3\n"
     ]
    }
   ],
   "source": [
    "import pandas as pd\n",
    "import numpy as np\n",
    "import math\n",
    "\n",
    "X = float(input('Strike Price: '))\n",
    "S = float(input('Stock Price: '))\n",
    "r = float(input('Continuously Compounded Risk Rate per Period: '))\n",
    "u = float(input('Up Factor: '))\n",
    "d = float(input('Down Factor: '))\n",
    "n = int(input('Periods: '))\n",
    "\n",
    "R = math.exp(r)\n",
    "p = (R-d)/(u-d)"
   ]
  },
  {
   "cell_type": "markdown",
   "metadata": {},
   "source": [
    "# Binomial Process for Stock Price\n",
    "### 利用 NumPy array 儲存stock price資訊"
   ]
  },
  {
   "cell_type": "code",
   "execution_count": 2,
   "metadata": {},
   "outputs": [
    {
     "name": "stdout",
     "output_type": "stream",
     "text": [
      "Binomial tree for stock price: \n",
      " [[240. 360. 540.]\n",
      " [ 80. 120. 180.]\n",
      " [  0.  40.  60.]\n",
      " [  0.   0.  20.]]\n"
     ]
    }
   ],
   "source": [
    "StockPrice = np.zeros((n+1, n))\n",
    "\n",
    "\n",
    "StockPrice[0][0] = X * u \n",
    "StockPrice[1][0] = X * d\n",
    "\n",
    "\n",
    "for i in range (0,n+1): \n",
    "    for j in range (1,n): \n",
    "        if i == j+1: \n",
    "            StockPrice[i][j] = StockPrice[i-1][j-1] * d \n",
    "        else: \n",
    "            StockPrice[i][j] = StockPrice[i][j-1] * u \n",
    "print(\"Binomial tree for stock price: \\n\", StockPrice)"
   ]
  },
  {
   "cell_type": "markdown",
   "metadata": {},
   "source": [
    "## Binomial Probability for Stock Price"
   ]
  },
  {
   "cell_type": "code",
   "execution_count": 3,
   "metadata": {},
   "outputs": [
    {
     "name": "stdout",
     "output_type": "stream",
     "text": [
      "Binomial probability for stock price: \n",
      " [[0.7   0.49  0.343]\n",
      " [0.3   0.42  0.441]\n",
      " [0.    0.09  0.189]\n",
      " [0.    0.    0.027]]\n"
     ]
    }
   ],
   "source": [
    "StockProb = np.zeros((n+1, n))\n",
    "\n",
    "StockProb[0][0] = round(p, 3)\n",
    "StockProb[1][0] = round(1-p, 3)\n",
    "\n",
    "for i in range (0,n+1): \n",
    "    for j in range (1,n): \n",
    "        if i == 0:\n",
    "            StockProb[i][j] = round(StockProb[i][j-1] * p, 3)\n",
    "        else:\n",
    "            StockProb[i][j] = round(StockProb[i][j-1] * p + StockProb[i-1][j-1] * (1-p), 3)\n",
    "print(\"Binomial probability for stock price: \\n\", StockProb)"
   ]
  },
  {
   "cell_type": "markdown",
   "metadata": {},
   "source": [
    "# Binomial Process for Call Price\n",
    "### 一樣使用 NumPy array，利用 backward induction，因此先處理 leaf 的資訊"
   ]
  },
  {
   "cell_type": "code",
   "execution_count": 4,
   "metadata": {},
   "outputs": [],
   "source": [
    "CallPrice = np.zeros((n+1, n))\n",
    "for i in range (0,n+1):\n",
    "    if (StockPrice[i][n-1] - S) > 0:\n",
    "        CallPrice[i][n-1] = StockPrice[i][n-1] - S\n",
    "    else:\n",
    "        CallPrice[i][n-1] = 0"
   ]
  },
  {
   "cell_type": "markdown",
   "metadata": {},
   "source": [
    "### 接下來，一步一步回推得到 call price"
   ]
  },
  {
   "cell_type": "code",
   "execution_count": 5,
   "metadata": {},
   "outputs": [
    {
     "name": "stdout",
     "output_type": "stream",
     "text": [
      "Binomial tree for call price: \n",
      " [[141.458 235.    390.   ]\n",
      " [ 10.208  17.5    30.   ]\n",
      " [  0.      0.      0.   ]\n",
      " [  0.      0.      0.   ]]\n",
      "\n",
      "Final Call Price:  85.06909477256853\n"
     ]
    }
   ],
   "source": [
    "for j in range (0,n-1): \n",
    "    for i in range (0,n):\n",
    "        CallPrice[i][n-j-2] = round((p * CallPrice[i][n-j-1] + (1-p) * CallPrice[i+1][n-j-1]) / R, 3)\n",
    "print(\"Binomial tree for call price: \\n\", CallPrice)\n",
    "print(\"\\nFinal Call Price: \", (p * CallPrice[0][0] + (1-p) * CallPrice[1][0])/R )        "
   ]
  },
  {
   "cell_type": "markdown",
   "metadata": {},
   "source": [
    "# Binomial Process for Put Price\n",
    "### 步驟與 Call Price 相同"
   ]
  },
  {
   "cell_type": "code",
   "execution_count": 6,
   "metadata": {},
   "outputs": [],
   "source": [
    "PutPrice = np.zeros((n+1, n))\n",
    "for i in range (0,n+1):\n",
    "    if (S - StockPrice[i][n-1]) > 0:\n",
    "        PutPrice[i][n-1] = S - StockPrice[i][n-1]\n",
    "    else:\n",
    "        PutPrice[i][n-1] = 0"
   ]
  },
  {
   "cell_type": "code",
   "execution_count": 7,
   "metadata": {},
   "outputs": [
    {
     "name": "stdout",
     "output_type": "stream",
     "text": [
      "Binomial tree for put price: \n",
      " [[  5.625   0.      0.   ]\n",
      " [ 34.375  22.5     0.   ]\n",
      " [ 49.583  85.     90.   ]\n",
      " [  0.      0.    130.   ]]\n",
      "\n",
      "Final Put Price:  11.87506324480364\n"
     ]
    }
   ],
   "source": [
    "for j in range (0,n-1): \n",
    "    for i in range (0,n):\n",
    "        PutPrice[i][n-j-2] = round((p * PutPrice[i][n-j-1] + (1-p) * PutPrice[i+1][n-j-1]) / R, 3)\n",
    "print(\"Binomial tree for put price: \\n\", PutPrice)\n",
    "print(\"\\nFinal Put Price: \", (p * PutPrice[0][0] + (1-p) * PutPrice[1][0])/R )     "
   ]
  },
  {
   "cell_type": "markdown",
   "metadata": {},
   "source": [
    "# 輸出結果：Call Price 及 Put Price"
   ]
  },
  {
   "cell_type": "code",
   "execution_count": 8,
   "metadata": {},
   "outputs": [
    {
     "name": "stdout",
     "output_type": "stream",
     "text": [
      "Call Price:  85.06909477256853\n",
      "Put  Price:  11.87506324480364\n"
     ]
    }
   ],
   "source": [
    "print(\"Call Price: \", (p * CallPrice[0][0] + (1-p) * CallPrice[1][0])/R)\n",
    "print(\"Put  Price: \", (p * PutPrice[0][0] + (1-p) * PutPrice[1][0])/R)"
   ]
  }
 ],
 "metadata": {
  "kernelspec": {
   "display_name": "Python 3",
   "language": "python",
   "name": "python3"
  },
  "language_info": {
   "codemirror_mode": {
    "name": "ipython",
    "version": 3
   },
   "file_extension": ".py",
   "mimetype": "text/x-python",
   "name": "python",
   "nbconvert_exporter": "python",
   "pygments_lexer": "ipython3",
   "version": "3.7.3"
  }
 },
 "nbformat": 4,
 "nbformat_minor": 2
}
